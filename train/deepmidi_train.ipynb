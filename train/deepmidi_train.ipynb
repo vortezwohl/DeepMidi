{
 "cells": [
  {
   "cell_type": "code",
   "execution_count": 11,
   "id": "initial_id",
   "metadata": {
    "collapsed": true,
    "ExecuteTime": {
     "end_time": "2025-06-22T07:09:23.563058Z",
     "start_time": "2025-06-22T07:09:11.573320Z"
    }
   },
   "outputs": [
    {
     "data": {
      "text/plain": "'\"0\" midi files downloaded.'"
     },
     "execution_count": 11,
     "metadata": {},
     "output_type": "execute_result"
    }
   ],
   "source": [
    "import os\n",
    "from datasets import load_dataset\n",
    "from vortezwohl.concurrent import ThreadPool\n",
    "from data import __PATH__\n",
    "from data.preprocess import download\n",
    "\n",
    "downloaders = ThreadPool(128)\n",
    "downloader_arguments = []\n",
    "download_count = 0\n",
    "midi_dataset = load_dataset('drengskapur/midi-classical-music', cache_dir=__PATH__)\n",
    "midi_file_path = os.path.join(__PATH__, 'midi-classical-music')\n",
    "os.makedirs(midi_file_path, exist_ok=True)\n",
    "base_url = 'https://huggingface.co/datasets/drengskapur/midi-classical-music/blob/main'\n",
    "for _d in midi_dataset['train']:\n",
    "    downloader_arguments.append({\n",
    "        'url': f'{base_url}/{_d[\"file_name\"]}', \n",
    "        'filename': str(os.path.join(midi_file_path, _d['file_name'][_d['file_name'].find('/') + 1:])),\n",
    "        'interval': 10\n",
    "    })\n",
    "for _ in downloaders.gather([download] * len(downloader_arguments), downloader_arguments):\n",
    "    if len(_) ==3 and not _[2].startswith('File failed to download'):\n",
    "        download_count += 1\n",
    "f'\"{download_count}\" midi files downloaded.'"
   ]
  },
  {
   "cell_type": "code",
   "outputs": [],
   "source": [],
   "metadata": {
    "collapsed": false
   },
   "id": "56e30f91e82c125d"
  }
 ],
 "metadata": {
  "kernelspec": {
   "display_name": "Python 3",
   "language": "python",
   "name": "python3"
  },
  "language_info": {
   "codemirror_mode": {
    "name": "ipython",
    "version": 2
   },
   "file_extension": ".py",
   "mimetype": "text/x-python",
   "name": "python",
   "nbconvert_exporter": "python",
   "pygments_lexer": "ipython2",
   "version": "2.7.6"
  }
 },
 "nbformat": 4,
 "nbformat_minor": 5
}
